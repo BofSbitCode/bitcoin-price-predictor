{
 "cells": [
  {
   "cell_type": "code",
   "execution_count": 1,
   "metadata": {},
   "outputs": [],
   "source": [
    "#import liberarry\n",
    "import numpy as np\n",
    "import pandas as pd\n",
    "import matplotlib.pyplot as plt\n",
    "from keras.models import Sequential\n",
    "from sklearn.preprocessing import MinMaxScaler\n",
    "from keras.layers import Dense, Dropout, LSTM\n",
    "import math"
   ]
  },
  {
   "cell_type": "code",
   "execution_count": 2,
   "metadata": {},
   "outputs": [
    {
     "data": {
      "text/html": [
       "<div>\n",
       "<style scoped>\n",
       "    .dataframe tbody tr th:only-of-type {\n",
       "        vertical-align: middle;\n",
       "    }\n",
       "\n",
       "    .dataframe tbody tr th {\n",
       "        vertical-align: top;\n",
       "    }\n",
       "\n",
       "    .dataframe thead th {\n",
       "        text-align: right;\n",
       "    }\n",
       "</style>\n",
       "<table border=\"1\" class=\"dataframe\">\n",
       "  <thead>\n",
       "    <tr style=\"text-align: right;\">\n",
       "      <th></th>\n",
       "      <th>Close</th>\n",
       "    </tr>\n",
       "    <tr>\n",
       "      <th>Date</th>\n",
       "      <th></th>\n",
       "    </tr>\n",
       "  </thead>\n",
       "  <tbody>\n",
       "    <tr>\n",
       "      <th>2013-04-01 00:07:00</th>\n",
       "      <td>93.300000</td>\n",
       "    </tr>\n",
       "    <tr>\n",
       "      <th>2013-04-02 00:07:00</th>\n",
       "      <td>104.000000</td>\n",
       "    </tr>\n",
       "    <tr>\n",
       "      <th>2013-04-03 00:07:00</th>\n",
       "      <td>116.533530</td>\n",
       "    </tr>\n",
       "    <tr>\n",
       "      <th>2013-04-04 00:07:00</th>\n",
       "      <td>134.655382</td>\n",
       "    </tr>\n",
       "    <tr>\n",
       "      <th>2013-04-05 00:07:00</th>\n",
       "      <td>131.999000</td>\n",
       "    </tr>\n",
       "  </tbody>\n",
       "</table>\n",
       "</div>"
      ],
      "text/plain": [
       "                          Close\n",
       "Date                           \n",
       "2013-04-01 00:07:00   93.300000\n",
       "2013-04-02 00:07:00  104.000000\n",
       "2013-04-03 00:07:00  116.533530\n",
       "2013-04-04 00:07:00  134.655382\n",
       "2013-04-05 00:07:00  131.999000"
      ]
     },
     "execution_count": 2,
     "metadata": {},
     "output_type": "execute_result"
    }
   ],
   "source": [
    "#reading data\n",
    "data = pd.read_csv('bitcoin2013to2021DayByDay.csv',index_col='Date',parse_dates=True)\n",
    "data.head()"
   ]
  },
  {
   "cell_type": "code",
   "execution_count": 3,
   "metadata": {},
   "outputs": [
    {
     "data": {
      "image/png": "[encoded data removed]",
      "text/plain": [
       "<Figure size 432x288 with 1 Axes>"
      ]
     },
     "metadata": {
      "needs_background": "light"
     },
     "output_type": "display_data"
    }
   ],
   "source": [
    "#show and save plot\n",
    "plt.plot(data)\n",
    "plt.savefig('bitcoin2013to2021DayByDay.png')"
   ]
  },
  {
   "cell_type": "code",
   "execution_count": 4,
   "metadata": {},
   "outputs": [
    {
     "name": "stdout",
     "output_type": "stream",
     "text": [
      "Size of split = 0 | Size left after split = 3155\n",
      "Size of train = 2681 | Size of left = 474\n"
     ]
    }
   ],
   "source": [
    "#split database to to smaller part\n",
    "lenDateFrame = len(data)  \n",
    "siezSplit = 100\n",
    "splitSize = math.floor((lenDateFrame*(100-siezSplit))/100)\n",
    "leftSize = lenDateFrame-splitSize\n",
    "print('Size of split =',splitSize,'| Size left after split =',leftSize)\n",
    "\n",
    "#split database to train and test part\n",
    "leftDF = data.iloc[splitSize:]\n",
    "df = data.iloc[splitSize:]\n",
    "lenDateFrameLeft = len(leftDF)\n",
    "sizeOfTrain = 85\n",
    "trainSize = math.floor((lenDateFrameLeft*(sizeOfTrain))/100)\n",
    "testSize = lenDateFrameLeft-trainSize\n",
    "train = leftDF.iloc[:trainSize]\n",
    "test = leftDF.iloc[trainSize:]\n",
    "print('Size of train =',trainSize,'| Size of left =',testSize)"
   ]
  },
  {
   "cell_type": "code",
   "execution_count": 5,
   "metadata": {},
   "outputs": [],
   "source": [
    "#scalar data\n",
    "\n",
    "#scalar train data \n",
    "scaler = MinMaxScaler(feature_range=(0,1))\n",
    "scaledData = scaler.fit_transform(train['Close'].values.reshape(-1,1))"
   ]
  },
  {
   "cell_type": "code",
   "execution_count": 6,
   "metadata": {},
   "outputs": [],
   "source": [
    "predictionDays = 60"
   ]
  },
  {
   "cell_type": "code",
   "execution_count": 7,
   "metadata": {},
   "outputs": [],
   "source": [
    "xTrain,yTrain = [],[]\n",
    "for x in range(predictionDays, len(scaledData)):\n",
    "    xTrain.append(scaledData[x-predictionDays:x,0])\n",
    "    yTrain.append(scaledData[x,0])\n",
    "xTrain, yTrain = np.array(xTrain), np.array(yTrain)\n",
    "xTrain = np.reshape(xTrain, (xTrain.shape[0], xTrain.shape[1], 1))"
   ]
  },
  {
   "cell_type": "code",
   "execution_count": 8,
   "metadata": {},
   "outputs": [],
   "source": [
    "model = Sequential()\n",
    "\n",
    "model.add(LSTM(units=100,return_sequences=True,input_shape=(xTrain.shape[1],1)))\n",
    "model.add(Dropout(0.2))\n",
    "model.add(LSTM(units=50,return_sequences=True))\n",
    "model.add(Dropout(0.2))\n",
    "model.add(LSTM(units=50))\n",
    "model.add(Dropout(0.2))\n",
    "model.add(Dense(units=1))\n",
    "\n",
    "model.compile(optimizer='adam',loss='mean_squared_error')"
   ]
  },
  {
   "cell_type": "code",
   "execution_count": 9,
   "metadata": {},
   "outputs": [
    {
     "name": "stdout",
     "output_type": "stream",
     "text": [
      "Model: \"sequential\"\n",
      "_________________________________________________________________\n",
      " Layer (type)                Output Shape              Param #   \n",
      "=================================================================\n",
      " lstm (LSTM)                 (None, 60, 100)           40800     \n",
      "                                                                 \n",
      " dropout (Dropout)           (None, 60, 100)           0         \n",
      "                                                                 \n",
      " lstm_1 (LSTM)               (None, 60, 50)            30200     \n",
      "                                                                 \n",
      " dropout_1 (Dropout)         (None, 60, 50)            0         \n",
      "                                                                 \n",
      " lstm_2 (LSTM)               (None, 50)                20200     \n",
      "                                                                 \n",
      " dropout_2 (Dropout)         (None, 50)                0         \n",
      "                                                                 \n",
      " dense (Dense)               (None, 1)                 51        \n",
      "                                                                 \n",
      "=================================================================\n",
      "Total params: 91,251\n",
      "Trainable params: 91,251\n",
      "Non-trainable params: 0\n",
      "_________________________________________________________________\n"
     ]
    }
   ],
   "source": [
    "model.summary()"
   ]
  },
  {
   "cell_type": "code",
   "execution_count": 10,
   "metadata": {},
   "outputs": [
    {
     "name": "stdout",
     "output_type": "stream",
     "text": [
      "Epoch 1/50\n",
      "82/82 [==============================] - 23s 190ms/step - loss: 0.0062\n",
      "Epoch 2/50\n",
      "82/82 [==============================] - 15s 187ms/step - loss: 0.0019\n",
      "Epoch 3/50\n",
      "82/82 [==============================] - 15s 186ms/step - loss: 0.0019\n",
      "Epoch 4/50\n",
      "82/82 [==============================] - 15s 183ms/step - loss: 0.0015\n",
      "Epoch 5/50\n",
      "82/82 [==============================] - 15s 184ms/step - loss: 0.0016\n",
      "Epoch 6/50\n",
      "82/82 [==============================] - 15s 183ms/step - loss: 0.0013\n",
      "Epoch 7/50\n",
      "82/82 [==============================] - 15s 184ms/step - loss: 0.0013\n",
      "Epoch 8/50\n",
      "82/82 [==============================] - 15s 186ms/step - loss: 0.0012\n",
      "Epoch 9/50\n",
      "82/82 [==============================] - 16s 189ms/step - loss: 0.0012\n",
      "Epoch 10/50\n",
      "82/82 [==============================] - 15s 187ms/step - loss: 0.0011\n",
      "Epoch 11/50\n",
      "82/82 [==============================] - 15s 186ms/step - loss: 0.0010\n",
      "Epoch 12/50\n",
      "82/82 [==============================] - 15s 188ms/step - loss: 0.0010\n",
      "Epoch 13/50\n",
      "82/82 [==============================] - 15s 186ms/step - loss: 0.0012\n",
      "Epoch 14/50\n",
      "82/82 [==============================] - 15s 184ms/step - loss: 9.7374e-04\n",
      "Epoch 15/50\n",
      "82/82 [==============================] - 15s 184ms/step - loss: 9.4658e-04\n",
      "Epoch 16/50\n",
      "82/82 [==============================] - 15s 184ms/step - loss: 9.1119e-04\n",
      "Epoch 17/50\n",
      "82/82 [==============================] - 15s 183ms/step - loss: 0.0011\n",
      "Epoch 18/50\n",
      "82/82 [==============================] - 15s 182ms/step - loss: 0.0010\n",
      "Epoch 19/50\n",
      "82/82 [==============================] - 15s 184ms/step - loss: 9.0946e-04\n",
      "Epoch 20/50\n",
      "82/82 [==============================] - 15s 181ms/step - loss: 8.2890e-04\n",
      "Epoch 21/50\n",
      "82/82 [==============================] - 15s 183ms/step - loss: 8.8986e-04\n",
      "Epoch 22/50\n",
      "82/82 [==============================] - 15s 180ms/step - loss: 8.2692e-04\n",
      "Epoch 23/50\n",
      "82/82 [==============================] - 15s 179ms/step - loss: 9.1718e-04\n",
      "Epoch 24/50\n",
      "82/82 [==============================] - 15s 179ms/step - loss: 8.8415e-04\n",
      "Epoch 25/50\n",
      "82/82 [==============================] - 15s 181ms/step - loss: 7.1782e-04\n",
      "Epoch 26/50\n",
      "82/82 [==============================] - 15s 179ms/step - loss: 7.6713e-04\n",
      "Epoch 27/50\n",
      "82/82 [==============================] - 15s 181ms/step - loss: 7.8213e-04\n",
      "Epoch 28/50\n",
      "82/82 [==============================] - 15s 178ms/step - loss: 7.5860e-04\n",
      "Epoch 29/50\n",
      "82/82 [==============================] - 15s 183ms/step - loss: 7.4011e-04\n",
      "Epoch 30/50\n",
      "82/82 [==============================] - 15s 179ms/step - loss: 7.6984e-04\n",
      "Epoch 31/50\n",
      "82/82 [==============================] - 15s 181ms/step - loss: 7.4121e-04\n",
      "Epoch 32/50\n",
      "82/82 [==============================] - 15s 180ms/step - loss: 6.4965e-04\n",
      "Epoch 33/50\n",
      "82/82 [==============================] - 15s 181ms/step - loss: 7.5247e-04\n",
      "Epoch 34/50\n",
      "82/82 [==============================] - 15s 180ms/step - loss: 7.1408e-04\n",
      "Epoch 35/50\n",
      "82/82 [==============================] - 15s 179ms/step - loss: 6.8776e-04\n",
      "Epoch 36/50\n",
      "82/82 [==============================] - 15s 182ms/step - loss: 6.9009e-04\n",
      "Epoch 37/50\n",
      "82/82 [==============================] - 15s 180ms/step - loss: 6.7076e-04\n",
      "Epoch 38/50\n",
      "82/82 [==============================] - 15s 179ms/step - loss: 7.2512e-04\n",
      "Epoch 39/50\n",
      "82/82 [==============================] - 15s 186ms/step - loss: 6.3828e-04\n",
      "Epoch 40/50\n",
      "82/82 [==============================] - 15s 188ms/step - loss: 6.4710e-04\n",
      "Epoch 41/50\n",
      "82/82 [==============================] - 15s 187ms/step - loss: 6.4708e-04\n",
      "Epoch 42/50\n",
      "82/82 [==============================] - 15s 187ms/step - loss: 6.6172e-04\n",
      "Epoch 43/50\n",
      "82/82 [==============================] - 15s 189ms/step - loss: 7.5242e-04\n",
      "Epoch 44/50\n",
      "82/82 [==============================] - 15s 186ms/step - loss: 6.9051e-04\n",
      "Epoch 45/50\n",
      "82/82 [==============================] - 15s 187ms/step - loss: 7.5141e-04\n",
      "Epoch 46/50\n",
      "82/82 [==============================] - 15s 189ms/step - loss: 6.2304e-04\n",
      "Epoch 47/50\n",
      "82/82 [==============================] - 15s 187ms/step - loss: 6.1016e-04\n",
      "Epoch 48/50\n",
      "82/82 [==============================] - 15s 189ms/step - loss: 6.3001e-04\n",
      "Epoch 49/50\n",
      "82/82 [==============================] - 15s 187ms/step - loss: 6.4218e-04\n",
      "Epoch 50/50\n",
      "82/82 [==============================] - 15s 184ms/step - loss: 7.4244e-04\n"
     ]
    },
    {
     "data": {
      "text/plain": [
       "<keras.callbacks.History at 0x7fcf02d22670>"
      ]
     },
     "execution_count": 10,
     "metadata": {},
     "output_type": "execute_result"
    }
   ],
   "source": [
    "model.fit(xTrain,yTrain,epochs=50,batch_size=32)            "
   ]
  },
  {
   "cell_type": "code",
   "execution_count": 11,
   "metadata": {},
   "outputs": [
    {
     "data": {
      "text/plain": [
       "[<matplotlib.lines.Line2D at 0x7fcedce05f40>]"
      ]
     },
     "execution_count": 11,
     "metadata": {},
     "output_type": "execute_result"
    },
    {
     "data": {
      "image/png": "[encoded data removed]",
      "text/plain": [
       "<Figure size 432x288 with 1 Axes>"
      ]
     },
     "metadata": {
      "needs_background": "light"
     },
     "output_type": "display_data"
    }
   ],
   "source": [
    "loss_per_epoch = model.history.history['loss']\n",
    "plt.plot(range(len(loss_per_epoch)),loss_per_epoch)"
   ]
  },
  {
   "cell_type": "code",
   "execution_count": 12,
   "metadata": {},
   "outputs": [],
   "source": [
    "actualPrices = test['Close'].values\n",
    "totalDataset = pd.concat((train['Close'], test['Close']), axis=0)\n",
    "modelInputs = totalDataset[len(totalDataset)-len(test)-predictionDays:].values\n",
    "modelInputs = modelInputs.reshape(-1,1)\n",
    "modelInputs = scaler.fit_transform(modelInputs)\n",
    "xTest = []\n",
    "for x in range(predictionDays, len(modelInputs)):\n",
    "    xTest.append(modelInputs[x-predictionDays:x,0])\n",
    "\n",
    "xTest = np.array(xTest)\n",
    "xTest = np.reshape(xTest, (xTest.shape[0], xTest.shape[1], 1))\n",
    "\n",
    "predictionPrice = model.predict(xTest)\n",
    "predictionPrice = scaler.inverse_transform(predictionPrice) "
   ]
  },
  {
   "cell_type": "code",
   "execution_count": 13,
   "metadata": {},
   "outputs": [],
   "source": [
    "cryptoCurrency = 'BTC'"
   ]
  },
  {
   "cell_type": "code",
   "execution_count": 14,
   "metadata": {},
   "outputs": [
    {
     "data": {
      "image/png": "[encoded data removed]",
      "text/plain": [
       "<Figure size 432x288 with 1 Axes>"
      ]
     },
     "metadata": {
      "needs_background": "light"
     },
     "output_type": "display_data"
    },
    {
     "data": {
      "text/plain": [
       "<Figure size 432x288 with 0 Axes>"
      ]
     },
     "metadata": {},
     "output_type": "display_data"
    }
   ],
   "source": [
    "plt.plot(actualPrices, color='black', label='Actual Prices')\n",
    "plt.plot(predictionPrice, color='green', label='Predited Prices')\n",
    "plt.title(f'{cryptoCurrency} price prediction')\n",
    "plt.xlabel('Time')\n",
    "plt.ylabel('Price')\n",
    "plt.legend(loc='upper left')\n",
    "plt.show()\n",
    "plt.savefig('predictionPrice-VS-ActualPrice.png')"
   ]
  }
 ],
 "metadata": {
  "interpreter": {
   "hash": "31f2aee4e71d21fbe5cf8b01ff0e069b9275f58929596ceb00d14d90e3e16cd6"
  },
  "kernelspec": {
   "display_name": "Python 3.8.10 64-bit",
   "language": "python",
   "name": "python3"
  },
  "language_info": {
   "codemirror_mode": {
    "name": "ipython",
    "version": 3
   },
   "file_extension": ".py",
   "mimetype": "text/x-python",
   "name": "python",
   "nbconvert_exporter": "python",
   "pygments_lexer": "ipython3",
   "version": "3.8.10"
  },
  "orig_nbformat": 4
 },
 "nbformat": 4,
 "nbformat_minor": 2
}
