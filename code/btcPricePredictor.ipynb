{
 "cells": [
  {
   "cell_type": "code",
   "execution_count": null,
   "metadata": {},
   "outputs": [],
   "source": [
    "from liberarry import bitcoinPricePredictor\n",
    "predictor = bitcoinPricePredictor()\n",
    "predictor.creatLogFile()\n",
    "from datetime import timedelta, date, datetime\n",
    "import zipfile\n",
    "import pandas as pd\n",
    "import urllib.request\n",
    "import progressbar\n",
    "import matplotlib.pyplot as plt\n",
    "from sklearn.preprocessing import MinMaxScaler\n",
    "from tensorflow.keras import models "
   ]
  },
  {
   "cell_type": "code",
   "execution_count": null,
   "metadata": {},
   "outputs": [],
   "source": [
    "dayBetween = predictor.dayBetweenStartAndEnd()\n",
    "totalPriceList,totalDateList = predictor.update(dayBetween)\n",
    "predictor.writeDatasetcsv(totalPriceList,totalDateList)\n",
    "predictor.writeDayByDaycsv()\n",
    "predictor.updateUpdateTimetxt()"
   ]
  }
 ],
 "metadata": {
  "language_info": {
   "name": "python"
  },
  "orig_nbformat": 4
 },
 "nbformat": 4,
 "nbformat_minor": 2
}
